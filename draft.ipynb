{
 "cells": [
  {
   "cell_type": "markdown",
   "metadata": {},
   "source": [
    "## Quête 2"
   ]
  },
  {
   "cell_type": "markdown",
   "metadata": {},
   "source": [
    "Liste des exos :\n",
    "\n",
    "* exceptions\n",
    "* list comprehension\n",
    "* query in list\n",
    "* read file\n",
    "* parse datetime with timezone\n",
    "* write file\n",
    "* *args/**kwargs\n",
    "* decorator\n",
    "* request API\n",
    "* build CLI"
   ]
  },
  {
   "cell_type": "markdown",
   "metadata": {},
   "source": [
    "## Scrapping du site cuisine-etudiant.fr"
   ]
  },
  {
   "cell_type": "markdown",
   "metadata": {},
   "source": [
    "Imports"
   ]
  },
  {
   "cell_type": "code",
   "execution_count": 51,
   "metadata": {},
   "outputs": [],
   "source": [
    "import random\n",
    "import re\n",
    "import json\n",
    "\n",
    "import requests\n",
    "from tqdm import tqdm\n",
    "from bs4 import BeautifulSoup"
   ]
  },
  {
   "cell_type": "markdown",
   "metadata": {},
   "source": [
    "Scrapp one list page"
   ]
  },
  {
   "cell_type": "code",
   "execution_count": 2,
   "metadata": {},
   "outputs": [],
   "source": [
    "def get_links_by_page(page: int) -> list[str]:\n",
    "    url = f'https://www.cuisine-etudiant.fr/recettes/page-{page}'\n",
    "    html_doc = requests.get(url).text\n",
    "\n",
    "    soup = BeautifulSoup(html_doc, 'html.parser')\n",
    "    \n",
    "    recipes_list = soup.find_all('ul', class_='recipes-list')[0]\n",
    "    list_items = recipes_list.find_all('li')\n",
    "        \n",
    "    recipes_links = []\n",
    "\n",
    "    for item in list_items:\n",
    "        recipes_links.append(item.a['href'])\n",
    "\n",
    "    return recipes_links"
   ]
  },
  {
   "cell_type": "markdown",
   "metadata": {},
   "source": [
    "Get max page number"
   ]
  },
  {
   "cell_type": "code",
   "execution_count": 3,
   "metadata": {},
   "outputs": [],
   "source": [
    "url = 'https://www.cuisine-etudiant.fr/recettes'\n",
    "html_doc = requests.get(url).text"
   ]
  },
  {
   "cell_type": "code",
   "execution_count": 12,
   "metadata": {},
   "outputs": [],
   "source": [
    "soup = BeautifulSoup(html_doc, 'html.parser')\n",
    "\n",
    "last_page_item = soup.find_all('li', class_='recipes-pagination-item')[-1]\n",
    "last_page_nb = last_page_item.get_text().replace('\\n', '')\n",
    "last_page_nb = int(last_page_nb)"
   ]
  },
  {
   "cell_type": "markdown",
   "metadata": {},
   "source": [
    "Scrapp all links"
   ]
  },
  {
   "cell_type": "code",
   "execution_count": 13,
   "metadata": {},
   "outputs": [
    {
     "name": "stderr",
     "output_type": "stream",
     "text": [
      "100%|██████████| 174/174 [01:15<00:00,  2.30it/s]\n"
     ]
    }
   ],
   "source": [
    "for page in tqdm(range(1, last_page_nb + 1)):\n",
    "    links = get_links_by_page(page)\n",
    "    with open('recipes_links.txt', 'a') as f:\n",
    "        for link in links:\n",
    "            f.write(link + '\\n')"
   ]
  },
  {
   "cell_type": "markdown",
   "metadata": {},
   "source": [
    "Scrapp single recipe page"
   ]
  },
  {
   "cell_type": "code",
   "execution_count": 47,
   "metadata": {},
   "outputs": [],
   "source": [
    "def scrap_recipe_page(link: str) -> dict:\n",
    "    html_doc = requests.get(link).text\n",
    "    \n",
    "    soup = BeautifulSoup(html_doc, 'html.parser')\n",
    "    title = soup.find('h1', class_='recipe-sheet-title').text.strip().replace('\\n', '')\n",
    "\n",
    "    recipe_list = soup.find('ul', class_='recipe-sheet-list')\n",
    "    list_items = recipe_list.find_all('li')\n",
    "\n",
    "    ingredients = []\n",
    "    for item in list_items:\n",
    "        ingredients.append(item.label.get_text().strip().replace('\\n', ''))\n",
    "        \n",
    "    persons_elt = soup.find('h2', class_='recipe-sheet-subtitle')\n",
    "    persons_text = persons_elt.get_text().strip().replace('\\n', '')\n",
    "    persons = re.match('Ingrédients \\((?P<persons>\\d+) pers\\.\\)', persons_text, flags=re.I).group('persons')\n",
    "        \n",
    "    return {\n",
    "        'title': title,\n",
    "        'ingredients': ingredients,\n",
    "        'persons': int(persons),\n",
    "    }"
   ]
  },
  {
   "cell_type": "code",
   "execution_count": 48,
   "metadata": {},
   "outputs": [
    {
     "data": {
      "text/plain": [
       "{'title': 'Quesadillas',\n",
       " 'ingredients': ['Galette de blé ou de maïs',\n",
       "  'Poulet',\n",
       "  'Fromage râpé',\n",
       "  'Crème fraîche',\n",
       "  \"Huile d'olive\",\n",
       "  'Épices type curry paprika',\n",
       "  'Sel',\n",
       "  'Poivre'],\n",
       " 'persons': 1}"
      ]
     },
     "execution_count": 48,
     "metadata": {},
     "output_type": "execute_result"
    }
   ],
   "source": [
    "# for test\n",
    "url = 'https://www.cuisine-etudiant.fr/recette/4548-quesadillas'\n",
    "scrap_recipe_page(url)"
   ]
  },
  {
   "cell_type": "markdown",
   "metadata": {},
   "source": [
    "Scrapp many random recipes"
   ]
  },
  {
   "cell_type": "code",
   "execution_count": 49,
   "metadata": {},
   "outputs": [
    {
     "data": {
      "text/plain": [
       "['https://www.cuisine-etudiant.fr/recette/7826-flanboisier-aux-peches',\n",
       " 'https://www.cuisine-etudiant.fr/recette/292-spaghetti-napolitaine-revise',\n",
       " 'https://www.cuisine-etudiant.fr/recette/6849-yaourts-miel-et-fleur-doranger',\n",
       " 'https://www.cuisine-etudiant.fr/recette/4305-clafouti-aux-cerises',\n",
       " 'https://www.cuisine-etudiant.fr/recette/5936-croissant-de-la-mer',\n",
       " 'https://www.cuisine-etudiant.fr/recette/8994-galettes-des-rois',\n",
       " 'https://www.cuisine-etudiant.fr/recette/4927-rochers-aux-coco',\n",
       " 'https://www.cuisine-etudiant.fr/recette/4008-galette-de-legumes',\n",
       " 'https://www.cuisine-etudiant.fr/recette/6204-blesotto-de-poireaux-jambon-au-cookeo',\n",
       " 'https://www.cuisine-etudiant.fr/recette/8870-wacky-cake']"
      ]
     },
     "execution_count": 49,
     "metadata": {},
     "output_type": "execute_result"
    }
   ],
   "source": [
    "with open('recipes_links.txt', 'r') as f:\n",
    "    recipes_links = f.readlines()\n",
    "selected_links = random.sample(recipes_links, 10)\n",
    "selected_links = [l.replace('\\n', '') for l in selected_links]\n",
    "selected_links"
   ]
  },
  {
   "cell_type": "code",
   "execution_count": 50,
   "metadata": {},
   "outputs": [
    {
     "name": "stderr",
     "output_type": "stream",
     "text": [
      "100%|██████████| 10/10 [00:03<00:00,  2.71it/s]\n"
     ]
    },
    {
     "data": {
      "text/plain": [
       "[{'title': 'Flanboisier aux pêches',\n",
       "  'ingredients': ['1 banane bien mûre',\n",
       "   '250g de fromage blanc 0%',\n",
       "   '3 œufs',\n",
       "   '100g de compote sans sucre ajouté',\n",
       "   '30g de maïzena',\n",
       "   '10g de Stevia (ou autre sucrant)',\n",
       "   '2 pêches mûres mais fermes'],\n",
       "  'persons': 6},\n",
       " {'title': 'Spaghetti Napolitaine révisé',\n",
       "  'ingredients': ['Spaghetti (n°7 barilla de préférence)',\n",
       "   'Un demi-poivron vert',\n",
       "   'Une tomate entière ou un quart de boîte de tomates pelées',\n",
       "   'Un demi-oignon',\n",
       "   '2 saucisses knackis',\n",
       "   'Ail',\n",
       "   \"Huile d'olive\",\n",
       "   'Sel, poivre',\n",
       "   'Ketchup (facultatif)'],\n",
       "  'persons': 1},\n",
       " {'title': \"Yaourts miel et fleur d'oranger\",\n",
       "  'ingredients': ['1 Lde lait entier',\n",
       "   '2 CàS de lait en poudre',\n",
       "   '1 yaourt nature',\n",
       "   '2 CàS  de miel liquide',\n",
       "   \"2CàS de fleur d'oranger\"],\n",
       "  'persons': 8},\n",
       " {'title': 'clafouti aux cerises',\n",
       "  'ingredients': ['600 g de cerises',\n",
       "   '- 40 g de beurre semi-sel + 20 g pour le moule',\n",
       "   '- 4 oeufs',\n",
       "   '- 20 cl de lait',\n",
       "   '- 100 g de farine',\n",
       "   '- 60 g de sucre en poudre',\n",
       "   '- 1 sachet de sucre vanillé',\n",
       "   '-2cl de kirsh',\n",
       "   '- 1 pincée de sel',\n",
       "   '- sucre glace'],\n",
       "  'persons': 8},\n",
       " {'title': 'Croissant de la mer',\n",
       "  'ingredients': ['2 croissants'],\n",
       "  'persons': 2},\n",
       " {'title': 'Galettes des rois',\n",
       "  'ingredients': ['@cuisine.tes.envies',\n",
       "   'Pour la pâte feuilletée :',\n",
       "   '250 g de farine',\n",
       "   \"190 g de beurre doux 125 g d'eau\",\n",
       "   '1 pincée de sel',\n",
       "   '.',\n",
       "   'Pour la frangipane:',\n",
       "   \"- pour la crème d'amandes :\",\n",
       "   \"80 g d'oeufs\",\n",
       "   '80 g de sucre',\n",
       "   '80 g de beurre doux',\n",
       "   \"80 g de poudre d'amande\",\n",
       "   '20 g de rhum',\n",
       "   '.',\n",
       "   '- Pour la crème pâtissière,',\n",
       "   '200 g de lait',\n",
       "   '40 g de sucre',\n",
       "   '20 g de farine',\n",
       "   \"40 g de jaune d'oeuf\"],\n",
       "  'persons': 4},\n",
       " {'title': 'Rochers aux coco',\n",
       "  'ingredients': ['2 oeufs',\n",
       "   '150g de noix de coco rapée',\n",
       "   '55g de sucre en poudre'],\n",
       "  'persons': 2},\n",
       " {'title': 'Galette de légumes',\n",
       "  'ingredients': ['2 pommes de terre',\n",
       "   '1/2 patate douce',\n",
       "   '1/2 carotte',\n",
       "   '1 œuf',\n",
       "   '1 pincé de sel',\n",
       "   '1 pincé se poivre',\n",
       "   'Ciboulette'],\n",
       "  'persons': 2},\n",
       " {'title': 'Blésotto de poireaux-jambon au Cookéo',\n",
       "  'ingredients': ['650g de blancs de poireaux (frais ou surgelés)',\n",
       "   \"2 cc d'huile de tournesol\",\n",
       "   '230g de blé cru (type Ebly)',\n",
       "   '150g de dés de jambon',\n",
       "   \"500ml d'eau\",\n",
       "   '1 bouillon cube',\n",
       "   '3cs de crème fraîche à 15% de matière grasse'],\n",
       "  'persons': 5},\n",
       " {'title': 'Wacky cake',\n",
       "  'ingredients': ['100 g de farine de sarrasin, seigle ou de châtaigne ou maizena  ou',\n",
       "   '100g de farine t 45 ( si pas allergique au gluten)',\n",
       "   '4C à S  de cacao en poudre',\n",
       "   '200 g de sucre roux',\n",
       "   '1 cuil. à soupe de levure',\n",
       "   '1 cuil. à café de sel',\n",
       "   '1 cuil. à soupe de vanille liquide',\n",
       "   '1 cuil. à soupe de vinaigre blanc',\n",
       "   '7,5 cl d’huile végétale (tournesol ou pépins de raisin)',\n",
       "   '24 cl d’eau chaude',\n",
       "   '30g de  noix de pecan ( facultatif)',\n",
       "   'le  glaçage',\n",
       "   '125 g de chocolat noir  patissier',\n",
       "   '80 de beurre de cacahuète',\n",
       "   '25 g de matière grasse végétale',\n",
       "   \"3 c. à s. d'eau\"],\n",
       "  'persons': 6}]"
      ]
     },
     "execution_count": 50,
     "metadata": {},
     "output_type": "execute_result"
    }
   ],
   "source": [
    "recipes = []\n",
    "for link in tqdm(selected_links):\n",
    "    recipe = scrap_recipe_page(link)\n",
    "    recipes.append(recipe)\n",
    "recipes"
   ]
  },
  {
   "cell_type": "code",
   "execution_count": 57,
   "metadata": {},
   "outputs": [],
   "source": [
    "with open('recipes_data.json', 'w') as f:\n",
    "    json.dump(recipes, f, ensure_ascii=False, indent=2)"
   ]
  },
  {
   "cell_type": "markdown",
   "metadata": {},
   "source": [
    "### Inspection de code"
   ]
  },
  {
   "cell_type": "code",
   "execution_count": 20,
   "metadata": {},
   "outputs": [
    {
     "data": {
      "text/plain": [
       "['def filter_recipes(recipes: list[dict], max_persons: int) -> list[str]:',\n",
       " \"# return [rec['title'] for rec in recipes if rec['persons'] < max_persons]\",\n",
       " 'print()',\n",
       " 'return tricherie(recipes, max_persons)']"
      ]
     },
     "execution_count": 20,
     "metadata": {},
     "output_type": "execute_result"
    }
   ],
   "source": [
    "import inspect\n",
    "import re\n",
    "\n",
    "def tricherie(recipes: list[dict], max_persons: int):\n",
    "    res = []\n",
    "    for rec in recipes:\n",
    "        if rec['persons'] < max_persons:\n",
    "            res.append(rec['title'])\n",
    "    return res\n",
    "\n",
    "\n",
    "\n",
    "def filter_recipes(recipes: list[dict], max_persons: int) -> list[str]:\n",
    "    # return [rec['title'] for rec in recipes if rec['persons'] < max_persons]\n",
    "    print(); return tricherie(recipes, max_persons)\n",
    "\n",
    "\n",
    "\n",
    "def get_lines_of_code(func) -> list[str]:\n",
    "    lines_of_code = inspect.getsource(func).strip().split('\\n')\n",
    "    lines_of_code = [line.strip() for maybe_single_line in lines_of_code\n",
    "                     for line in maybe_single_line.split(';')\n",
    "                     if line.strip()]\n",
    "    \n",
    "    return lines_of_code\n",
    "\n",
    "\n",
    "lines_of_code = get_lines_of_code(filter_recipes)\n",
    "lines_of_code"
   ]
  }
 ],
 "metadata": {
  "interpreter": {
   "hash": "84d84cc071f68f54e5b9a397ddaabf911b398f25faf6841164c39eee96794858"
  },
  "kernelspec": {
   "display_name": "Python 3.9.12 ('py1')",
   "language": "python",
   "name": "python3"
  },
  "language_info": {
   "codemirror_mode": {
    "name": "ipython",
    "version": 3
   },
   "file_extension": ".py",
   "mimetype": "text/x-python",
   "name": "python",
   "nbconvert_exporter": "python",
   "pygments_lexer": "ipython3",
   "version": "3.10.4"
  },
  "orig_nbformat": 4
 },
 "nbformat": 4,
 "nbformat_minor": 2
}
